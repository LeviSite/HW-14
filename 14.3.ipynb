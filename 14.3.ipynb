{
 "cells": [
  {
   "cell_type": "code",
   "execution_count": 10,
   "metadata": {},
   "outputs": [
    {
     "name": "stdout",
     "output_type": "stream",
     "text": [
      "['ADAP2', 'AIF1', 'ALOX5AP', 'ARHGAP30', 'ARPC1B', 'ARRB2', 'C19orf38', 'C1QA', 'C1QB', 'C1QC', 'C3AR1', 'CCR1', 'CD14', 'CD300A', 'CD300C', 'CD300LB', 'CD33', 'CD4', 'CD74', 'CD86', 'CFP', 'CLEC10A', 'CORO7', 'COTL1', 'CRYBB1', 'CSF1R', 'CTSB', 'CYTH4', 'DOK2', 'DOK3', 'FCER1G', 'FERMT3', 'FGD2', 'FGR', 'FMNL1', 'GPSM3', 'HAVCR2', 'HCK', 'HCLS1', 'HCST', 'HK3', 'HLA-DMB', 'IL10RA', 'IRF5', 'ITGAM', 'ITGB2', 'KCNAB2', 'LAPTM5', 'LGALS9', 'LILRA5', 'LILRA6', 'LILRB1', 'LILRB2', 'LILRB3', 'LILRB4', 'LINC01272', 'LRRC25', 'LYL1', 'MILR1', 'MYO1F', 'NCF1', 'NCF1B', 'NCF1C', 'NCF2', 'NCF4', 'NCKAP1L', 'NFAM1', 'P2RY6', 'PARVG', 'PIK3R5', 'PLEK', 'PTAFR', 'SELPLG', 'SIGLEC7', 'SIGLEC9', 'SIRPB2', 'SLC11A1', 'SLC15A3', 'SLC37A2', 'SLC7A7', 'SPI1', 'TBXAS1', 'TGFB1', 'THEMIS2', 'TNFAIP8L2', 'TYROBP', 'VAV1', 'WAS']\n"
     ]
    }
   ],
   "source": [
    "import pandas as pd\n",
    "from scipy.stats import spearmanr\n",
    "\n",
    "df = pd.read_csv(\"healthy_breast.tsv\", sep = \"\\t\", index_col = 0)\n",
    "\n",
    "l = []\n",
    "for i in df.index:\n",
    "    if spearmanr(df.loc[\"SPI1\"], df.loc[i], axis=1)[0] >= 0.8:\n",
    "        l.append(i)\n",
    "print(l)"
   ]
  },
  {
   "cell_type": "code",
   "execution_count": null,
   "metadata": {},
   "outputs": [],
   "source": []
  }
 ],
 "metadata": {
  "kernelspec": {
   "display_name": "Python 3",
   "language": "python",
   "name": "python3"
  },
  "language_info": {
   "codemirror_mode": {
    "name": "ipython",
    "version": 3
   },
   "file_extension": ".py",
   "mimetype": "text/x-python",
   "name": "python",
   "nbconvert_exporter": "python",
   "pygments_lexer": "ipython3",
   "version": "3.8.5"
  }
 },
 "nbformat": 4,
 "nbformat_minor": 4
}
