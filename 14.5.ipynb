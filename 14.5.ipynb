{
 "cells": [
  {
   "cell_type": "code",
   "execution_count": 14,
   "metadata": {},
   "outputs": [
    {
     "name": "stdout",
     "output_type": "stream",
     "text": [
      "             NC_006577.2  MK167038.1  MH940245.1  KT779555.1  KT779556.1  \\\n",
      "NC_006577.2     0.000000    0.126076    0.130345    0.013075    0.013075   \n",
      "MK167038.1      0.126076    0.000000    0.008722    0.125908    0.125908   \n",
      "MH940245.1      0.130440    0.008728    0.000000    0.130266    0.130266   \n",
      "KT779555.1      0.013092    0.126076    0.130345    0.000000    0.000000   \n",
      "KT779556.1      0.013092    0.126076    0.130345    0.000000    0.000000   \n",
      "...                  ...         ...         ...         ...         ...   \n",
      "KF514396.1      0.958662    0.973088    0.974803    0.964165    0.964165   \n",
      "KF514397.1      0.958662    0.973088    0.974803    0.964165    0.964165   \n",
      "KF514398.1      0.958662    0.973088    0.974803    0.964165    0.964165   \n",
      "KF514399.1      0.958662    0.973088    0.974803    0.964165    0.964165   \n",
      "KF514400.1      0.958662    0.973088    0.974803    0.964165    0.964165   \n",
      "\n",
      "             KF686340.1  KF686341.1  KF686342.1  KF686343.1  KF686344.1  ...  \\\n",
      "NC_006577.2    0.085946    0.084809    0.084809    0.083363    0.050837  ...   \n",
      "MK167038.1     0.131219    0.129864    0.129864    0.128418    0.163113  ...   \n",
      "MH940245.1     0.135577    0.134201    0.134201    0.132755    0.167450  ...   \n",
      "KT779555.1     0.094662    0.093483    0.093483    0.092037    0.037827  ...   \n",
      "KT779556.1     0.094662    0.093483    0.093483    0.092037    0.037827  ...   \n",
      "...                 ...         ...         ...         ...         ...  ...   \n",
      "KF514396.1     0.962111    0.962776    0.962776    0.959041    0.956752  ...   \n",
      "KF514397.1     0.962111    0.962776    0.962776    0.959041    0.956752  ...   \n",
      "KF514398.1     0.962111    0.962776    0.962776    0.959041    0.956752  ...   \n",
      "KF514399.1     0.962111    0.962776    0.962776    0.959041    0.956752  ...   \n",
      "KF514400.1     0.962111    0.962776    0.962776    0.959041    0.956752  ...   \n",
      "\n",
      "             KF514393.1  KF514394.1  KF514395.1  KF514396.1  KF514397.1  \\\n",
      "NC_006577.2    0.921249    0.921249    0.921249    0.921249    0.921249   \n",
      "MK167038.1     0.935112    0.935112    0.935112    0.935112    0.935112   \n",
      "MH940245.1     0.937442    0.937442    0.937442    0.937442    0.937442   \n",
      "KT779555.1     0.927773    0.927773    0.927773    0.927773    0.927773   \n",
      "KT779556.1     0.927773    0.927773    0.927773    0.927773    0.927773   \n",
      "...                 ...         ...         ...         ...         ...   \n",
      "KF514396.1     0.000000    0.000000    0.000000    0.000000    0.000000   \n",
      "KF514397.1     0.000000    0.000000    0.000000    0.000000    0.000000   \n",
      "KF514398.1     0.000000    0.000000    0.000000    0.000000    0.000000   \n",
      "KF514399.1     0.000000    0.000000    0.000000    0.000000    0.000000   \n",
      "KF514400.1     0.000000    0.000000    0.000000    0.000000    0.000000   \n",
      "\n",
      "             KF514398.1  KF514399.1  KF514400.1     TSNE1      TSNE2  \n",
      "NC_006577.2    0.921249    0.921249    0.921249 -2.459872 -12.129224  \n",
      "MK167038.1     0.935112    0.935112    0.935112 -3.135832 -12.056191  \n",
      "MH940245.1     0.937442    0.937442    0.937442 -3.147896 -12.047417  \n",
      "KT779555.1     0.927773    0.927773    0.927773 -2.454423 -12.106869  \n",
      "KT779556.1     0.927773    0.927773    0.927773 -2.454423 -12.106869  \n",
      "...                 ...         ...         ...       ...        ...  \n",
      "KF514396.1     0.000000    0.000000    0.000000 -5.025016   4.345274  \n",
      "KF514397.1     0.000000    0.000000    0.000000 -5.038254   4.341539  \n",
      "KF514398.1     0.000000    0.000000    0.000000 -5.038254   4.341540  \n",
      "KF514399.1     0.000000    0.000000    0.000000 -5.038254   4.341539  \n",
      "KF514400.1     0.000000    0.000000    0.000000 -5.028992   4.341266  \n",
      "\n",
      "[140 rows x 142 columns]\n"
     ]
    },
    {
     "data": {
      "image/png": "[encoded data removed]",
      "text/plain": [
       "<Figure size 432x288 with 1 Axes>"
      ]
     },
     "metadata": {
      "needs_background": "light"
     },
     "output_type": "display_data"
    }
   ],
   "source": [
    "import pandas as pd\n",
    "import numpy as np\n",
    "import seaborn as sns\n",
    "import matplotlib.pyplot as plt\n",
    "from sklearn.manifold import TSNE\n",
    "\n",
    "df = pd.read_csv(\"human_coronavirus_aln_scores.tsv\", sep=\"\\t\", index_col=0)\n",
    "\n",
    "a = 0\n",
    "b = 5000\n",
    "for i in df.columns:\n",
    "    if a < df[i].max():\n",
    "        a = df[i].max()\n",
    "    if b > df[i].min():\n",
    "        b = df[i].min()\n",
    "    df[i] = [abs(el-a)/(a-b) for el in df[i]]\n",
    "\n",
    "df1 = pd.DataFrame()\n",
    "df[[\"TSNE1\", \"TSNE2\"]] = TSNE(n_components=2, metric=\"precomputed\", perplexity = 30).fit_transform(df) \n",
    "print(df)\n",
    "\n",
    "sns.scatterplot(x=\"TSNE1\", y=\"TSNE2\", data=df)\n",
    "plt.tight_layout()\n",
    "plt.show()"
   ]
  },
  {
   "cell_type": "code",
   "execution_count": null,
   "metadata": {},
   "outputs": [],
   "source": []
  }
 ],
 "metadata": {
  "kernelspec": {
   "display_name": "Python 3",
   "language": "python",
   "name": "python3"
  },
  "language_info": {
   "codemirror_mode": {
    "name": "ipython",
    "version": 3
   },
   "file_extension": ".py",
   "mimetype": "text/x-python",
   "name": "python",
   "nbconvert_exporter": "python",
   "pygments_lexer": "ipython3",
   "version": "3.8.5"
  }
 },
 "nbformat": 4,
 "nbformat_minor": 4
}
